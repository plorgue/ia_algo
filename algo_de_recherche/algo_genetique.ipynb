{
 "cells": [
  {
   "cell_type": "code",
   "execution_count": 173,
   "metadata": {},
   "outputs": [],
   "source": [
    "import excelreader\n",
    "import numpy.random as rd\n",
    "import numpy as np\n",
    "import random\n",
    "import matplotlib.pyplot as plt"
   ]
  },
  {
   "cell_type": "code",
   "execution_count": 174,
   "metadata": {},
   "outputs": [
    {
     "name": "stdout",
     "output_type": "stream",
     "text": [
      "Matrice originale des choix ordonnés par etudiant :\n",
      "---------------------------------------------------\n",
      "MAELLE ANDRICQUE........... :  1  2  2  1  2  1  2  3  1  3  2  3  1  3  3  3  1  1\n",
      "OMAR KHALIFA ARIF.......... :  1  3  3  3  1  3  2  3  1  3  3  3  2  3  3  3  3  3\n",
      "ALBANE ARTHUIS............. :  1  2  3  3  3  2  1  3  3  2  3  3  1  3  3  3  1  1\n",
      "HOUSSAM BAHHOU............. :  3  3  3  2  3  2  1  3  1  1  3  1  3  1  2  3  3  3\n",
      "LUCIE BANNAY............... :  3  3  3  2  3  3  2  3  3  3  3  3  3  3  3  3  1  3\n",
      "REMI BARBOSA............... :  3  3  3  2  3  2  1  2  1  2  3  1  2  2  3  3  3  3\n",
      "MARGOT BEAUREPAIRE......... :  3  3  3  2  2  3  2  2  2  1  3  1  3  1  3  3  2  2\n",
      "BAPTISTE BENARD............ :  3  3  2  2  3  3  2  3  3  2  2  2  3  3  3  3  1  3\n",
      "HAMZA BENMENDIL............ :  3  3  3  2  3  2  1  3  1  1  3  1  3  1  3  3  3  3\n",
      "AYMERIC BLED............... :  2  3  3  1  3  1  2  2  1  1  2  2  3  1  3  3  3  3\n",
      "ROMAIN BONNEFON............ :  3  3  3  3  3  2  2  2  2  3  3  1  3  1  3  2  3  3\n",
      "IMAD BOUDROUA.............. :  3  3  3  3  1  3  3  3  2  3  3  3  3  3  3  3  3  3\n",
      "MOHAMED FAYCAL BOULLIT..... :  3  3  3  2  3  2  1  3  1  1  3  1  3  1  3  3  3  3\n",
      "JULIEN BRIAND.............. :  2  2  2  2  2  2  1  3  2  2  2  2  1  2  2  3  3  3\n",
      "MARTIN DEVREESE............ :  1  3  3  2  3  3  1  2  1  1  3  2  3  2  3  2  3  3\n",
      "JULIAN DUPUIS.............. :  3  3  3  2  3  2  3  2  3  1  2  1  3  1  3  3  3  3\n",
      "SOHAIB ERRABII............. :  3  3  2  2  1  3  2  2  3  3  3  1  2  3  3  3  3  3\n",
      "ALEXANDRE GISSAUD.......... :  3  3  3  2  3  3  3  2  3  1  3  1  2  1  2  3  3  2\n",
      "LUCAS GUEDON............... :  3  3  3  2  3  2  3  3  1  1  3  3  3  3  3  3  3  3\n",
      "JALAL IZEKKI............... :  2  1  3  1  3  3  1  2  1  1  2  2  3  2  2  3  3  3\n",
      "MOHAMED KOUHOU............. :  1  2  3  3  2  1  3  3  1  1  2  2  1  3  3  2  2  3\n",
      "CORENTIN LANUSSE--MALHENE.. :  2  1  3  3  3  3  3  2  3  2  3  1  3  1  3  2  3  3\n",
      "SIMON LAUR................. :  3  3  3  2  2  3  1  2  1  3  2  2  3  3  2  3  3  1\n",
      "LOUIS LAVENSEAU............ :  1  3  3  3  3  2  1  2  1  2  3  2  3  2  3  2  3  2\n",
      "GUILHEM LE MOIGNE.......... :  3  3  3  3  1  2  3  3  3  3  3  2  1  3  3  3  3  3\n",
      "SELMANE LEBDAOUI........... :  3  2  2  2  3  3  1  3  1  1  1  3  3  2  2  3  3  2\n",
      "VICTOR LEROY............... :  3  1  3  3  3  2  3  3  2  1  3  1  2  2  3  2  3  3\n",
      "PAUL LORGUE................ :  3  1  3  3  2  2  2  2  2  3  2  3  3  1  2  3  3  3\n",
      "MAEL LUCAS................. :  1  2  1  3  3  3  2  1  3  3  3  2  2  2  2  3  3  1\n",
      "GAETAN MARGUERITTE......... :  3  3  3  3  3  3  2  2  2  2  3  2  3  3  3  3  3  1\n",
      "AGATHE MIGEON.............. :  3  3  3  2  3  2  2  3  1  1  3  3  3  3  3  3  3  3\n",
      "YACINE NABET............... :  3  3  3  2  3  2  2  2  2  3  3  3  1  2  3  3  3  1\n",
      "EMMA NAVARRO............... :  2  3  2  3  3  2  1  2  3  2  3  3  3  2  3  3  1  1\n",
      "PIERRE PAVIA............... :  3  3  3  2  3  2  2  3  2  1  3  1  3  2  3  3  3  3\n",
      "HUGO PIERRE................ :  2  3  3  3  3  1  2  1  2  2  3  2  3  1  2  3  3  3\n",
      "ENORA THOMAS............... :  3  3  3  2  3  2  2  3  2  1  3  1  3  2  3  3  3  3\n",
      "AMANDINE VALLEE............ :  1  2  2  1  3  2  3  2  1  3  3  3  3  3  3  3  3  3\n",
      "PATRICE ZHOU............... :  3  3  2  2  3  2  2  2  3  1  3  1  3  1  3  3  3  2\n",
      "\n",
      "noms des projets\n",
      "----------------\n",
      "['00: env-sonores', '01: comp-reactifs', '02: data-sync', '03: deepsynth', '04: derive-concep', '05: dessin-graphes', '06: detection-botnet', '07: detection-pietons', '08: images-synth', '09: gen-proc-ville', '10: planif-contraintes', '11: jv-tempsreel', '12: interp-tf', '13: pilote-auto', '14: reporting-data', '15: robocup-ssl', '16: activite-appr', '17: modeles-lang']\n",
      "\n",
      "noms des étudiants\n",
      "----------------\n",
      "['0: MAELLE ANDRICQUE', '1: OMAR KHALIFA ARIF', '2: ALBANE ARTHUIS', '3: HOUSSAM BAHHOU', '4: LUCIE BANNAY', '5: REMI BARBOSA', '6: MARGOT BEAUREPAIRE', '7: BAPTISTE BENARD', '8: HAMZA BENMENDIL', '9: AYMERIC BLED', '10: ROMAIN BONNEFON', '11: IMAD BOUDROUA', '12: MOHAMED FAYCAL BOULLIT', '13: JULIEN BRIAND', '14: MARTIN DEVREESE', '15: JULIAN DUPUIS', '16: SOHAIB ERRABII', '17: ALEXANDRE GISSAUD', '18: LUCAS GUEDON', '19: JALAL IZEKKI', '20: MOHAMED KOUHOU', '21: CORENTIN LANUSSE--MALHENE', '22: SIMON LAUR', '23: LOUIS LAVENSEAU', '24: GUILHEM LE MOIGNE', '25: SELMANE LEBDAOUI', '26: VICTOR LEROY', '27: PAUL LORGUE', '28: MAEL LUCAS', '29: GAETAN MARGUERITTE', '30: AGATHE MIGEON', '31: YACINE NABET', '32: EMMA NAVARRO', '33: PIERRE PAVIA', '34: HUGO PIERRE', '35: ENORA THOMAS', '36: AMANDINE VALLEE', '37: PATRICE ZHOU']\n"
     ]
    }
   ],
   "source": [
    "helper = excelreader.ProblemHelper()"
   ]
  },
  {
   "cell_type": "code",
   "execution_count": 175,
   "metadata": {},
   "outputs": [],
   "source": [
    "id_industies = [1, 7]"
   ]
  },
  {
   "cell_type": "code",
   "execution_count": 176,
   "metadata": {},
   "outputs": [],
   "source": [
    "NB_OF_CHROMOSOME = 100\n",
    "NB_OF_LOOP = 2000\n",
    "MUTATION = 0.2\n",
    "DECREASE_MUTATION = 2          # divis \n",
    "NB_ALLOW_TOBE_PARENT = 50\n",
    "MUTATION_PROPABILITY = 0.15"
   ]
  },
  {
   "cell_type": "code",
   "execution_count": 177,
   "metadata": {},
   "outputs": [],
   "source": [
    "MALUS_GRP_1 = 2500\n",
    "MALUS_GRP_3 = 2500\n",
    "MALUS_GRP_4 = 1000\n",
    "MALUS_GRP_5SUP = 10000\n",
    "\n",
    "MALUS_MIXITE = 800\n",
    "\n",
    "MALUS_CHOICE_2 = 500\n",
    "MALUS_CHOICE_3 = 1500\n",
    "\n",
    "MALUS_INDUSTRY = 2500"
   ]
  },
  {
   "cell_type": "code",
   "execution_count": 178,
   "metadata": {},
   "outputs": [],
   "source": [
    "def getProjectChoiceByStudent(student, project):\n",
    "    studentName = helper.matrixStudentNumberToName()[student]\n",
    "    return helper._originalWishes[studentName][project]"
   ]
  },
  {
   "cell_type": "code",
   "execution_count": 179,
   "metadata": {},
   "outputs": [],
   "source": [
    "def createRandomChromosome(nbOfStudent, nbOfProject):\n",
    "    return [rd.randint(0,nbOfProject) for _ in range(nbOfStudent)]\n",
    "\n",
    "def chromosomeChild(parent1, parent2):\n",
    "    aChromosome = []\n",
    "    for i in range(len(parent1[0])):\n",
    "        if(rd.random() > 0.5):\n",
    "            aChromosome.append(parent1[0][i])\n",
    "        else:\n",
    "            aChromosome.append(parent2[0][i])\n",
    "    if(rd.random() < MUTATION_PROPABILITY):\n",
    "        chromosomeMutation(aChromosome)\n",
    "\n",
    "    return aChromosome\n",
    "\n",
    "def chromosomeMutation(aChromosome):\n",
    "    index = rd.randint(len(aChromosome))\n",
    "    val = aChromosome[index]\n",
    "    aChromosome[index] = (val+1)%2\n",
    "    return aChromosome\n",
    "\n",
    "def computeFitness(aChromosome, nbOfProject):\n",
    "    fitess = 0\n",
    "\n",
    "    occurence_proj = [[] for i in range(nbOfProject)]\n",
    "    for stud in range(len(aChromosome)):\n",
    "        occurence_proj[aChromosome[stud]].append(helper._studentsGroup[stud])\n",
    "    \n",
    "    for proj in occurence_proj:\n",
    "        # nbStud par proj\n",
    "        if len(proj) == 1: fitess += MALUS_GRP_1\n",
    "        elif len(proj) == 3:  fitess += MALUS_GRP_3\n",
    "        elif len(proj) > 4: fitess += MALUS_GRP_5SUP\n",
    "        # mixité\n",
    "        if proj.count('EMMK') > 1 or proj.count('ENSC') > 1: fitess += MALUS_MIXITE\n",
    "\n",
    "    # rang proj pour chaque stud\n",
    "    for stud in range(len(aChromosome)):\n",
    "        studChoice = getProjectChoiceByStudent(stud, aChromosome[stud])\n",
    "        if studChoice == 2: fitess += MALUS_CHOICE_2\n",
    "        elif studChoice == 3 : fitess += MALUS_CHOICE_3\n",
    "    \n",
    "    return fitess\n",
    "\n",
    "def orderByFitness(chromosomesWithFitness):\n",
    "    return sorted(chromosomesWithFitness, key=lambda chromosome: chromosome[1])"
   ]
  },
  {
   "cell_type": "code",
   "execution_count": 180,
   "metadata": {},
   "outputs": [],
   "source": [
    "nbOfStudent = len(helper.matrixStudentNumberToName())\n",
    "nbOfProject = len(helper.matrixProjectsNumberToName())\n",
    "\n",
    "chromosomes = [createRandomChromosome(nbOfStudent, nbOfProject) for _ in range(100)]\n",
    "chromosomesWithFitness = [[chro, computeFitness(chro,nbOfProject)] for chro in chromosomes]\n",
    "\n",
    "evol = []\n",
    "for _ in range(NB_OF_LOOP):\n",
    "    chromosomesWithFitness = orderByFitness(chromosomesWithFitness)\n",
    "    chromosomesWithFitness = chromosomesWithFitness[0:-NB_OF_MUTATION]\n",
    "    for _ in range(NB_OF_MUTATION):\n",
    "        newChromosome = chromosomeChild(random.choices(chromosomesWithFitness[50:])[0],random.choices(chromosomesWithFitness[50:])[0])\n",
    "        newChroFitness = computeFitness(newChromosome,nbOfProject)\n",
    "        chromosomesWithFitness.append([newChromosome, newChroFitness])\n",
    "    evol.append(chromosomesWithFitness[0][1])\n"
   ]
  },
  {
   "cell_type": "code",
   "execution_count": 188,
   "metadata": {},
   "outputs": [
    {
     "name": "stdout",
     "output_type": "stream",
     "text": [
      "(0, 12, 17, 11, 3, 8, 16, 2, 4, 0, 13, 4, 6, 9, 6, 3, 11, 11, 8, 13, 9, 11, 8, 0, 12, 9, 5, 13, 7, 17, 6, 7, 16, 9, 13, 8, 0, 6)\n"
     ]
    }
   ],
   "source": [
    "bestConfig = np.array(chromosomesWithFitness[0][0])\n",
    "print(tuple(bestConfig))"
   ]
  },
  {
   "cell_type": "code",
   "execution_count": 183,
   "metadata": {},
   "outputs": [
    {
     "data": {
      "image/png": "[encoded data removed]",
      "text/plain": [
       "<Figure size 432x288 with 1 Axes>"
      ]
     },
     "metadata": {
      "needs_background": "light"
     },
     "output_type": "display_data"
    }
   ],
   "source": [
    "project, nb_stud = np.unique(bestConfig, return_counts=True)\n",
    "nb_stud = [nb_stud[list(project).index(i)] if (i in project) else 0 for i in range(nbOfProject)]\n",
    "project = list(range(nbOfProject))\n",
    "ax = plt.subplot()\n",
    "ax.barh(project, nb_stud)\n",
    "ax.set_yticks(project, labels=helper.matrixProjectsNumberToName())\n",
    "ax.set_title(\"Nombre d'étudiant par projet\")\n",
    "plt.show()"
   ]
  },
  {
   "cell_type": "code",
   "execution_count": 184,
   "metadata": {},
   "outputs": [
    {
     "data": {
      "text/plain": [
       "array([ 0, 12, 17, 11,  3,  8, 16,  2,  4,  0, 13,  4,  6,  9,  6,  3, 11,\n",
       "       11,  8, 13,  9, 11,  8,  0, 12,  9,  5, 13,  7, 17,  6,  7, 16,  9,\n",
       "       13,  8,  0,  6])"
      ]
     },
     "execution_count": 184,
     "metadata": {},
     "output_type": "execute_result"
    }
   ],
   "source": [
    "bestConfig"
   ]
  },
  {
   "cell_type": "code",
   "execution_count": 185,
   "metadata": {},
   "outputs": [
    {
     "name": "stdout",
     "output_type": "stream",
     "text": [
      "Numéro qu'a donné chaque étudiant au projet qu'il lui a été attribué:  [1, 2, 1, 1, 2, 1, 2, 2, 3, 2, 1, 1, 1, 2, 1, 2, 1, 1, 1, 2, 1, 1, 1, 1, 1, 1, 2, 1, 1, 1, 2, 2, 1, 1, 1, 2, 1, 2]\n"
     ]
    },
    {
     "data": {
      "image/png": "[encoded data removed]",
      "text/plain": [
       "<Figure size 432x288 with 1 Axes>"
      ]
     },
     "metadata": {
      "needs_background": "light"
     },
     "output_type": "display_data"
    }
   ],
   "source": [
    "original_choice = [getProjectChoiceByStudent(stud, proj) for stud, proj  in enumerate(bestConfig)]\n",
    "print(\"Numéro qu'a donné chaque étudiant au projet qu'il lui a été attribué: \", original_choice)\n",
    "choice, nbChoice = np.unique(original_choice, return_counts=True)\n",
    "nbChoice = nbChoice/nbOfProject # normalize\n",
    "plt.figure()\n",
    "ax = plt.subplot()\n",
    "ax.bar(choice, nbChoice)\n",
    "ax.set_xticks(choice, labels=choice)\n",
    "ax.set_title(\"Position des projets de les choix des étudiants\")\n",
    "plt.show()"
   ]
  },
  {
   "cell_type": "code",
   "execution_count": 186,
   "metadata": {},
   "outputs": [
    {
     "name": "stdout",
     "output_type": "stream",
     "text": [
      "Fitness finale: 19400\n"
     ]
    },
    {
     "data": {
      "image/png": "[encoded data removed]",
      "text/plain": [
       "<Figure size 720x432 with 1 Axes>"
      ]
     },
     "metadata": {
      "needs_background": "light"
     },
     "output_type": "display_data"
    }
   ],
   "source": [
    "print(\"Fitness finale:\", evol[-1])\n",
    "plt.figure(figsize=(10,6))\n",
    "plt.plot(range(NB_OF_LOOP), evol)\n",
    "plt.title(\"Evolution de la fitness à chaque tour\")\n",
    "plt.show()"
   ]
  }
 ],
 "metadata": {
  "interpreter": {
   "hash": "dad3fe31bdc6fcdda96ef01c04985bacd8b5a40aacfc05c12c1fe14f19308c61"
  },
  "kernelspec": {
   "display_name": "Python 3.7.11 64-bit ('3a_ia': conda)",
   "name": "python3"
  },
  "language_info": {
   "codemirror_mode": {
    "name": "ipython",
    "version": 3
   },
   "file_extension": ".py",
   "mimetype": "text/x-python",
   "name": "python",
   "nbconvert_exporter": "python",
   "pygments_lexer": "ipython3",
   "version": "3.9.0"
  },
  "orig_nbformat": 4
 },
 "nbformat": 4,
 "nbformat_minor": 2
}
