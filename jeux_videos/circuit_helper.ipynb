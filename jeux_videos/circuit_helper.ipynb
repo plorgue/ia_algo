{
  "cells": [
    {
      "cell_type": "code",
      "execution_count": 7,
      "metadata": {
        "id": "nbs_V9qVhmab"
      },
      "outputs": [],
      "source": [
        "import matplotlib.pyplot as plt\n",
        "import numpy as np\n",
        "import math"
      ]
    },
    {
      "cell_type": "code",
      "execution_count": 8,
      "metadata": {},
      "outputs": [],
      "source": [
        "def thresholding(pixel, threshold = 2.5):\n",
        "    gray = (pixel[0]+pixel[1]+pixel[2])*pixel[3]\n",
        "    return 0 if gray < threshold else 1\n",
        "\n",
        "def getABlack(circuit):\n",
        "    px = 0\n",
        "    while circuit[px//circuit.shape[0]][px%circuit.shape[1]] == 1:\n",
        "        px += 1\n",
        "    return (px//circuit.shape[0], px%circuit.shape[1])\n",
        "    \n",
        "def count_blk_around(img, x, y):\n",
        "    around = 8\n",
        "    for a in range(-1,2):\n",
        "        for b in range(-1,2):\n",
        "            x2 = x+a\n",
        "            y2 = y+b\n",
        "            if(not (a == 0 and b == 0) and x2>=0 and y2 >= 0 and x2<=circuit.shape[1]-1 and y2<=circuit.shape[0]-1):\n",
        "                around -= img[y2][x2]\n",
        "    return around\n",
        "\n",
        "def appendToTrack(circuit, x, y, track):\n",
        "    tck = []\n",
        "    for a in range(-1,2):\n",
        "            for b in range(-1,2):\n",
        "                x2 = x+a\n",
        "                y2 = y+b\n",
        "                if(not (a == 0 and b == 0) and x2>=0 and y2>=0 and x2<=circuit.shape[1]-1 and y2<=circuit.shape[0]-1):\n",
        "                    count = count_blk_around(circuit, x2, y2)\n",
        "                    already_in_track = (x2,y2) in track\n",
        "                    is_black = int(circuit[y2][x2]) == 0\n",
        "                    if(not already_in_track and is_black and count > 3 and count < 8):\n",
        "                        tck.append((x2,y2))\n",
        "    return tck\n",
        "\n",
        "def resize(track, circuit, new_shape=(720,1080), offset= (0,0)):\n",
        "    track_recized = []\n",
        "    factor = min(new_shape[0] / circuit.shape[0], new_shape[1] / circuit.shape[1])\n",
        "    for t in track:\n",
        "        track_recized.append((math.floor(t[0]*factor +offset[0]), math.floor(t[1]*factor + offset[1])))\n",
        "    return track_recized\n",
        "\n",
        "def reverse(track):\n",
        "    return [track[i] for i in range(len(track)-1, -1, -1)]\n",
        "\n",
        "def quantify(track, step):\n",
        "    quantified = [ (p[0] - p[0]%step, p[1] - p[1]%step) for p in track]\n",
        "    quantified_unique = []\n",
        "    for q in quantified:\n",
        "        if q not in quantified_unique:\n",
        "            quantified_unique.append(q)\n",
        "    return quantified_unique"
      ]
    },
    {
      "cell_type": "code",
      "execution_count": 9,
      "metadata": {
        "id": "7j-2pEochmaf",
        "outputId": "6b087860-101d-4dfa-8d04-d1a4623e7d0a"
      },
      "outputs": [
        {
          "data": {
            "image/png": "[encoded data removed]",
            "text/plain": [
              "<Figure size 432x288 with 1 Axes>"
            ]
          },
          "metadata": {
            "needs_background": "light"
          },
          "output_type": "display_data"
        },
        {
          "name": "stdout",
          "output_type": "stream",
          "text": [
            "[(27, 42), (28, 42), (29, 41), (29, 42)]\n",
            "1999\n"
          ]
        },
        {
          "data": {
            "image/png": "[encoded data removed]",
            "text/plain": [
              "<Figure size 432x288 with 1 Axes>"
            ]
          },
          "metadata": {
            "needs_background": "light"
          },
          "output_type": "display_data"
        }
      ],
      "source": [
        "circuit_img = plt.imread('catalogne.png')\n",
        "circuit = np.array([[thresholding(px, threshold=1.93) for px in line]for line in circuit_img])\n",
        "plt.imshow(circuit, cmap=\"gray\")\n",
        "plt.show()\n",
        "\n",
        "track = []\n",
        "y, x = getABlack(circuit)\n",
        "track.append((x,y))\n",
        "tck = appendToTrack(circuit, x,y, track)\n",
        "while len(tck) > 0:\n",
        "    x,y = tck.pop()\n",
        "    tmp_tck = appendToTrack(circuit,x,y, track)\n",
        "    for t in tmp_tck:\n",
        "        if(t not in tck): tck.append(t)\n",
        "    track.append((x,y))\n",
        "\n",
        "circ = np.zeros_like(circuit)\n",
        "for p in track:\n",
        "    circ[p[1]][p[0]] = 1\n",
        "plt.imshow(circ, cmap=\"gray\")\n",
        "plt.show()"
      ]
    },
    {
      "cell_type": "code",
      "execution_count": 10,
      "metadata": {},
      "outputs": [
        {
          "name": "stdout",
          "output_type": "stream",
          "text": [
            "100\n"
          ]
        }
      ],
      "source": [
        "small_track = []\n",
        "for i in range(len(track)):\n",
        "    if(i%20 == 0): small_track.append(track[i])\n",
        "print(len(small_track))"
      ]
    },
    {
      "cell_type": "code",
      "execution_count": 11,
      "metadata": {},
      "outputs": [],
      "source": [
        "small_track_ordered = [small_track.pop()]\n",
        "while len(small_track) > 0:\n",
        "    p = small_track_ordered[-1]\n",
        "    neighbor = 0\n",
        "    mini = math.sqrt((small_track[neighbor][0]-p[0])**2 + (small_track[neighbor][1]-p[1])**2)\n",
        "    for i in range(1,len(small_track)):\n",
        "        n = small_track[i]\n",
        "        dist = math.sqrt((n[0]-p[0])**2 + (n[1]-p[1])**2)\n",
        "        if(dist < mini): \n",
        "            mini = dist\n",
        "            neighbor = i\n",
        "    small_track_ordered.append(small_track.pop(neighbor))"
      ]
    },
    {
      "cell_type": "code",
      "execution_count": 12,
      "metadata": {},
      "outputs": [
        {
          "name": "stdout",
          "output_type": "stream",
          "text": [
            "((100, 160), (110, 150), (170, 150), (240, 150), (300, 150), (350, 180), (350, 190), (340, 220), (310, 240), (280, 240), (240, 250), (210, 250), (180, 250), (150, 250), (140, 280), (140, 290), (190, 320), (200, 330), (230, 340), (270, 360), (290, 360), (330, 370), (350, 370), (390, 360), (400, 340), (410, 300), (410, 280), (440, 240), (450, 230), (470, 200), (500, 170), (510, 170), (560, 170), (570, 180), (610, 190), (640, 210), (660, 220), (700, 250), (750, 280), (770, 290), (800, 310), (830, 330), (840, 330), (880, 320), (850, 260), (850, 250), (810, 230), (800, 210), (820, 180), (840, 170), (880, 180), (900, 180), (950, 200), (960, 260), (960, 270), (980, 310), (990, 330), (980, 370), (980, 390), (950, 420), (920, 430), (880, 430), (850, 430), (820, 430), (790, 430), (750, 430), (720, 430), (680, 430), (660, 430), (620, 430), (590, 430), (550, 430), (520, 430), (490, 430), (460, 430), (420, 430), (390, 430), (360, 430), (330, 430), (290, 430), (260, 430), (230, 430), (180, 420), (170, 420), (150, 370), (150, 350), (110, 330), (80, 320), (60, 310), (20, 270), (30, 270), (30, 210), (40, 200), (60, 170))\n"
          ]
        }
      ],
      "source": [
        "final_track = reverse(resize(small_track_ordered, circuit, (720,980), (20,20)))\n",
        "\n",
        "quantify_final_track = quantify(final_track, 10)\n",
        "\n",
        "\n",
        "print(tuple(quantify_final_track))"
      ]
    }
  ],
  "metadata": {
    "colab": {
      "name": "circuit_helper.ipynb",
      "provenance": []
    },
    "interpreter": {
      "hash": "a17b1771daf03b1d85d31ea4392b44e89eacd342f0c053a96519d076e7afe3b2"
    },
    "kernelspec": {
      "display_name": "Python 3.9.7 64-bit ('3a_ia': conda)",
      "language": "python",
      "name": "python3"
    },
    "language_info": {
      "codemirror_mode": {
        "name": "ipython",
        "version": 3
      },
      "file_extension": ".py",
      "mimetype": "text/x-python",
      "name": "python",
      "nbconvert_exporter": "python",
      "pygments_lexer": "ipython3",
      "version": "3.8.12"
    },
    "orig_nbformat": 4
  },
  "nbformat": 4,
  "nbformat_minor": 0
}
